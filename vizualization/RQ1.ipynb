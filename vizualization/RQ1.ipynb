{
 "cells": [
  {
   "cell_type": "code",
   "execution_count": 1,
   "metadata": {},
   "outputs": [],
   "source": [
    "import os\n",
    "import matplotlib.pyplot as plt\n",
    "import json"
   ]
  },
  {
   "cell_type": "code",
   "execution_count": 11,
   "metadata": {},
   "outputs": [],
   "source": [
    "src_dir = \"../results/maldonaldo62k/\"\n",
    "ori_name = \"{}-satd-{}\"\n",
    "tesoro_name = \"{}-tesoro-satd-{}\"\n",
    "\n",
    "methods = [\"codebert-base\", \"roberta-base\"]\n",
    "method_names = [\"CodeBERT\", \"RoBERTa\"]\n",
    "scenarios = [\"identification\", \"classification\", \"detection\"]\n"
   ]
  },
  {
   "cell_type": "code",
   "execution_count": 12,
   "metadata": {},
   "outputs": [],
   "source": [
    "def read_rs(folder):\n",
    "    projects = []\n",
    "    f1 = []\n",
    "    for proj in os.listdir(folder):\n",
    "        if proj.startswith((\"summary\", \"tesoro\")):\n",
    "            continue\n",
    "        with open(os.path.join(folder, proj, f\"{proj}_predict_score.json\"), \"r\") as f:\n",
    "            rs = json.load(f)\n",
    "        \n",
    "        if len(proj.split(\"-\")) > 1:\n",
    "            proj_name = \"-\".join(proj.split(\"-\")[:-1])\n",
    "        else:\n",
    "            proj_name = proj\n",
    "        projects.append(proj_name)\n",
    "        # projects.append(proj)\n",
    "        f1.append(rs[\"macro_f1\"])\n",
    "    return projects, f1"
   ]
  },
  {
   "cell_type": "code",
   "execution_count": 13,
   "metadata": {},
   "outputs": [
    {
     "ename": "FileNotFoundError",
     "evalue": "[WinError 3] The system cannot find the path specified: '../results/maldonaldo62k/codebert-base-satd-identification'",
     "output_type": "error",
     "traceback": [
      "\u001b[1;31m---------------------------------------------------------------------------\u001b[0m",
      "\u001b[1;31mFileNotFoundError\u001b[0m                         Traceback (most recent call last)",
      "Cell \u001b[1;32mIn[13], line 5\u001b[0m\n\u001b[0;32m      2\u001b[0m \u001b[38;5;28;01mfor\u001b[39;00m mid, method \u001b[38;5;129;01min\u001b[39;00m \u001b[38;5;28menumerate\u001b[39m(methods):\n\u001b[0;32m      4\u001b[0m     \u001b[38;5;28;01mfor\u001b[39;00m sid, scenario \u001b[38;5;129;01min\u001b[39;00m \u001b[38;5;28menumerate\u001b[39m(scenarios):\n\u001b[1;32m----> 5\u001b[0m         ori_rs \u001b[38;5;241m=\u001b[39m read_rs(os\u001b[38;5;241m.\u001b[39mpath\u001b[38;5;241m.\u001b[39mjoin(src_dir, ori_name\u001b[38;5;241m.\u001b[39mformat(method, scenario)))\n\u001b[0;32m      6\u001b[0m         tesoro_rs \u001b[38;5;241m=\u001b[39m read_rs(os\u001b[38;5;241m.\u001b[39mpath\u001b[38;5;241m.\u001b[39mjoin(src_dir, tesoro_name\u001b[38;5;241m.\u001b[39mformat(method, scenario)))\n\u001b[0;32m      7\u001b[0m         axs[mid][sid]\u001b[38;5;241m.\u001b[39mplot(ori_rs[\u001b[38;5;241m0\u001b[39m], ori_rs[\u001b[38;5;241m1\u001b[39m], color\u001b[38;5;241m=\u001b[39m\u001b[38;5;124m'\u001b[39m\u001b[38;5;124morange\u001b[39m\u001b[38;5;124m'\u001b[39m, marker\u001b[38;5;241m=\u001b[39m\u001b[38;5;124m'\u001b[39m\u001b[38;5;124mo\u001b[39m\u001b[38;5;124m'\u001b[39m, label\u001b[38;5;241m=\u001b[39m\u001b[38;5;124m\"\u001b[39m\u001b[38;5;124mMaldonado-62K\u001b[39m\u001b[38;5;124m\"\u001b[39m)\n",
      "Cell \u001b[1;32mIn[12], line 4\u001b[0m, in \u001b[0;36mread_rs\u001b[1;34m(folder)\u001b[0m\n\u001b[0;32m      2\u001b[0m projects \u001b[38;5;241m=\u001b[39m []\n\u001b[0;32m      3\u001b[0m f1 \u001b[38;5;241m=\u001b[39m []\n\u001b[1;32m----> 4\u001b[0m \u001b[38;5;28;01mfor\u001b[39;00m proj \u001b[38;5;129;01min\u001b[39;00m os\u001b[38;5;241m.\u001b[39mlistdir(folder):\n\u001b[0;32m      5\u001b[0m     \u001b[38;5;28;01mif\u001b[39;00m proj\u001b[38;5;241m.\u001b[39mstartswith((\u001b[38;5;124m\"\u001b[39m\u001b[38;5;124msummary\u001b[39m\u001b[38;5;124m\"\u001b[39m, \u001b[38;5;124m\"\u001b[39m\u001b[38;5;124mtesoro\u001b[39m\u001b[38;5;124m\"\u001b[39m)):\n\u001b[0;32m      6\u001b[0m         \u001b[38;5;28;01mcontinue\u001b[39;00m\n",
      "\u001b[1;31mFileNotFoundError\u001b[0m: [WinError 3] The system cannot find the path specified: '../results/maldonaldo62k/codebert-base-satd-identification'"
     ]
    },
    {
     "data": {
      "image/png": "[encoded data removed]",
      "text/plain": [
       "<Figure size 800x450 with 6 Axes>"
      ]
     },
     "metadata": {},
     "output_type": "display_data"
    }
   ],
   "source": [
    "fig, axs = plt.subplots(2,3, figsize=(8,4.5))\n",
    "for mid, method in enumerate(methods):\n",
    "\n",
    "    for sid, scenario in enumerate(scenarios):\n",
    "        ori_rs = read_rs(os.path.join(src_dir, ori_name.format(method, scenario)))\n",
    "        tesoro_rs = read_rs(os.path.join(src_dir, tesoro_name.format(method, scenario)))\n",
    "        axs[mid][sid].plot(ori_rs[0], ori_rs[1], color='orange', marker='o', label=\"Maldonado-62K\")\n",
    "        axs[mid][sid].plot(tesoro_rs[0], tesoro_rs[1], color='#4d4b72', marker='v', label=\"+Tesoro\")\n",
    "\n",
    "        if mid == 0:\n",
    "            axs[mid][sid].set_xticks([])\n",
    "            axs[mid][sid].set_title(scenario.capitalize(),fontsize=11)\n",
    "        else:\n",
    "            axs[mid][sid].set_xticklabels(ori_rs[0], rotation=90, fontsize=10)\n",
    "        \n",
    "        if sid == 0:\n",
    "            axs[mid][sid].set_ylabel(method_names[mid],fontsize=11)\n",
    "\n",
    "handles, labels = axs[0][0].get_legend_handles_labels()\n",
    "fig.legend(handles, labels, loc='upper center', ncols=2, bbox_to_anchor=[0.5, 1.07], fontsize= 11)\n",
    "\n",
    "plt.tight_layout()\n",
    "# plt.show()\n",
    "plt.savefig('figs/rq1_projects.pdf', bbox_inches='tight')"
   ]
  },
  {
   "cell_type": "code",
   "execution_count": null,
   "metadata": {},
   "outputs": [],
   "source": []
  }
 ],
 "metadata": {
  "kernelspec": {
   "display_name": "base",
   "language": "python",
   "name": "python3"
  },
  "language_info": {
   "codemirror_mode": {
    "name": "ipython",
    "version": 3
   },
   "file_extension": ".py",
   "mimetype": "text/x-python",
   "name": "python",
   "nbconvert_exporter": "python",
   "pygments_lexer": "ipython3",
   "version": "3.11.7"
  }
 },
 "nbformat": 4,
 "nbformat_minor": 2
}
