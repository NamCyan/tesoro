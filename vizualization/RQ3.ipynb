{
 "cells": [
  {
   "cell_type": "code",
   "execution_count": 1,
   "metadata": {},
   "outputs": [],
   "source": [
    "import matplotlib.pyplot as plt\n",
    "from matplotlib.colors import ListedColormap\n",
    "import json\n",
    "import numpy as np"
   ]
  },
  {
   "cell_type": "code",
   "execution_count": 8,
   "metadata": {},
   "outputs": [],
   "source": [
    "results = {\n",
    "    \"CodeBERT\": {\n",
    "        \"size\": 125/1000,\n",
    "        \"type\": \"code\",\n",
    "        \"architect\": \"encoder\",\n",
    "        \"f1\": 43.37\n",
    "    },\n",
    "    \"UniXCoder\": {\n",
    "        \"size\": 125/1000,\n",
    "        \"type\": \"code\",\n",
    "        \"architect\": \"encoder\",\n",
    "        \"f1\": 42.58\n",
    "    },\n",
    "    \"GraphCodeBERT \": {\n",
    "        \"size\": 125/1000,\n",
    "        \"type\": \"code\",\n",
    "        \"architect\": \"encoder\",\n",
    "        \"f1\": 44.21\n",
    "    },\n",
    "    \"RoBERTa\": {\n",
    "        \"size\": 125/1000,\n",
    "        \"type\": \"text\",\n",
    "        \"architect\": \"encoder\",\n",
    "        \"f1\": 38.22\n",
    "    },\n",
    "    \"ALBERT\": {\n",
    "        \"size\": 11.8/1000,\n",
    "        \"type\": \"text\",\n",
    "        \"architect\": \"encoder\",\n",
    "        \"f1\": 41.99\n",
    "    },\n",
    "    \"PLBART\": {\n",
    "        \"size\": 140/1000,\n",
    "        \"type\": \"code\",\n",
    "        \"architect\": \"encoder-decoder\",\n",
    "        \"f1\": 39.90\n",
    "    },\n",
    "    \"Codet5\": {\n",
    "        \"size\": 220/1000,\n",
    "        \"type\": \"code\",\n",
    "        \"architect\": \"encoder-decoder\",\n",
    "        \"f1\": 35.41\n",
    "    },\n",
    "    \"Codet5+\": {\n",
    "        \"size\": 220/1000,\n",
    "        \"type\": \"code\",\n",
    "        \"architect\": \"encoder-decoder\",\n",
    "        \"f1\": 41.96\n",
    "    },\n",
    "    \"TinyLlama\": {\n",
    "        \"size\": 1.03,\n",
    "        \"type\": \"text\",\n",
    "        \"architect\": \"decoder\",\n",
    "        \"f1\": 40.05\n",
    "    },\n",
    "    \"DeepSeek-Coder\": {\n",
    "        \"size\": 1.28,\n",
    "        \"type\": \"code\",\n",
    "        \"architect\": \"decoder\",\n",
    "        \"f1\": 46.19\n",
    "    },\n",
    "    \"OpenCodeInterpreter\": {\n",
    "        \"size\": 1.35,\n",
    "        \"type\": \"code\",\n",
    "        \"architect\": \"decoder\",\n",
    "        \"f1\": 41.76\n",
    "    },\n",
    "    \"phi-2\": {\n",
    "        \"size\": 2.78,\n",
    "        \"type\": \"text\",\n",
    "        \"architect\": \"decoder\",\n",
    "        \"f1\": 41.57\n",
    "    },\n",
    "    \"starcoder2\": {\n",
    "        \"size\": 3.03,\n",
    "        \"type\": \"code\",\n",
    "        \"architect\": \"decoder\",\n",
    "        \"f1\": 41.77\n",
    "    },\n",
    "    \"CodeLlama\": {\n",
    "        \"size\": 6.74,\n",
    "        \"type\": \"code\",\n",
    "        \"architect\": \"decoder\",\n",
    "        \"f1\": 38.16\n",
    "    },\n",
    "    \"Magicoder\": {\n",
    "        \"size\": 6.74,\n",
    "        \"type\": \"code\",\n",
    "        \"architect\": \"decoder\",\n",
    "        \"f1\": 42.49\n",
    "    },\n",
    "\n",
    "}\n",
    "\n",
    "architectures = [\"encoder\", \"encoder-decoder\", \"decoder\"]"
   ]
  },
  {
   "cell_type": "code",
   "execution_count": 5,
   "metadata": {},
   "outputs": [
    {
     "data": {
      "image/png": "[encoded data removed]",
      "text/plain": [
       "<Figure size 500x300 with 1 Axes>"
      ]
     },
     "metadata": {},
     "output_type": "display_data"
    }
   ],
   "source": [
    "sc = plt.scatter(x=x,y=y,s=40, c=c, cmap=colormap, marker=\"s\")"
   ]
  },
  {
   "cell_type": "code",
   "execution_count": 10,
   "metadata": {},
   "outputs": [
    {
     "data": {
      "image/png": "[encoded data removed]",
      "text/plain": [
       "<Figure size 500x300 with 1 Axes>"
      ]
     },
     "metadata": {},
     "output_type": "display_data"
    }
   ],
   "source": [
    "\n",
    "plt.rcParams[\"figure.figsize\"] = (5,3)\n",
    "fontsize = 11\n",
    "colormap = ListedColormap([\"blue\", \"green\", \"orange\"])\n",
    "\n",
    "\n",
    "x = []\n",
    "y = []\n",
    "c = []\n",
    "\n",
    "x_ = []\n",
    "y_ = []\n",
    "c_ = []\n",
    "\n",
    "for model in results:\n",
    "    if results[model][\"type\"] == \"text\":\n",
    "        x.append(results[model][\"size\"])\n",
    "        y.append(results[model][\"f1\"])\n",
    "\n",
    "\n",
    "        c.append(architectures.index(results[model][\"architect\"]))\n",
    "    else:\n",
    "        x_.append(results[model][\"size\"])\n",
    "        y_.append(results[model][\"f1\"])\n",
    "        c_.append(architectures.index(results[model][\"architect\"]))\n",
    "\n",
    "sc1 = plt.scatter(x=x,y=y,s=40, c=c, cmap=colormap, marker=\"d\")\n",
    "sc2 = plt.scatter(x=x_,y=y_,s=40, c=c_, cmap=colormap, marker=\"*\")\n",
    "\n",
    "\n",
    "plt.legend(handles=sc.legend_elements()[0], labels= [\"Encoder\", \"Encoder-Decoder\", \"Decoder\"], loc='upper center', scatterpoints=1, ncol=3, bbox_to_anchor=(0.5, 1.25),\n",
    "          fancybox=True,)\n",
    "\n",
    "plt.ylabel('F1-score', fontsize = fontsize)\n",
    "plt.xlabel('Model size (B)', fontsize = fontsize)\n",
    "plt.tight_layout()\n",
    "plt.savefig('figs/rq3.pdf', bbox_inches='tight')"
   ]
  },
  {
   "cell_type": "code",
   "execution_count": null,
   "metadata": {},
   "outputs": [],
   "source": []
  }
 ],
 "metadata": {
  "kernelspec": {
   "display_name": "base",
   "language": "python",
   "name": "python3"
  },
  "language_info": {
   "codemirror_mode": {
    "name": "ipython",
    "version": 3
   },
   "file_extension": ".py",
   "mimetype": "text/x-python",
   "name": "python",
   "nbconvert_exporter": "python",
   "pygments_lexer": "ipython3",
   "version": "3.9.12"
  }
 },
 "nbformat": 4,
 "nbformat_minor": 2
}
